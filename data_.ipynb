{
 "cells": [
  {
   "cell_type": "markdown",
   "source": [
    "# Ayiti Analytics Probability and Statistics Project"
   ],
   "metadata": {}
  },
  {
   "cell_type": "markdown",
   "source": [
    "Use all the files to have a final datasets to have the following columns\r\n",
    "   <ul>\r\n",
    "    <li>questid</li>\r\n",
    "    <li>gender</li>\r\n",
    "    <li>age (age of applicant)</li>\r\n",
    "    <li>communeName (use data prep in commune file)</li>\r\n",
    "    <li>application_date (created at in quest file)</li>\r\n",
    "    <li>enroll_date (created_at in enroll file)</li>\r\n",
    "    <li>is_enroll (Yes/No) (use data prep in enroll file)</li>\r\n",
    "    <li>Education Level</li>\r\n",
    "   <li>Communication channels(hear_AA1)</li>\r\n",
    "    <li>Bootcamp Insterest (after_AA)</li>\r\n",
    "    <li>Payement Date (use ord and transaction files)</li>\r\n",
    "    <li>Payed (Yes/No)</li>\r\n",
    "    <li>list Technologies as columns based (use get_dummies)</li>\r\n",
    "    <li>list  Study domains (use get_dummies)</li>\r\n",
    "    <li>Job is formal</li>\r\n",
    "    <li>Have computer at home</li>\r\n",
    "    <li>Have internet at home</li>\r\n",
    "    \r\n",
    "   </ul>\r\n",
    "   "
   ],
   "metadata": {}
  },
  {
   "cell_type": "markdown",
   "source": [
    "## Import of libraries"
   ],
   "metadata": {}
  },
  {
   "cell_type": "code",
   "execution_count": 34,
   "source": [
    "import numpy as np\r\n",
    "import pandas as pd\r\n",
    "import matplotlib.pyplot as plt\r\n",
    "import seaborn as sns\r\n",
    "from scipy.stats import f_oneway\r\n",
    "from scipy.stats import shapiro\r\n",
    "from scipy.stats import wilcoxon\r\n",
    "from scipy.stats import ttest_1samp\r\n",
    "from scipy.stats import chi2_contingency"
   ],
   "outputs": [],
   "metadata": {}
  },
  {
   "cell_type": "markdown",
   "source": [
    "## Retrieving Data File"
   ],
   "metadata": {}
  },
  {
   "cell_type": "code",
   "execution_count": 35,
   "source": [
    "commune_data       = pd.read_excel('commune.xlsx', index_col=0)\r\n",
    "enroll_data        = pd.read_csv('enroll.csv', index_col=0)\r\n",
    "industry_data      = pd.read_csv('industry.csv', index_col=0)\r\n",
    "ord_data           = pd.read_csv('ord.csv', index_col=0)\r\n",
    "quest_data         = pd.read_csv('quest.csv', index_col=0)\r\n",
    "study_domain_data  = pd.read_csv('study_domain.csv', index_col=0)\r\n",
    "technology_data    = pd.read_csv('technology.csv', index_col=0)\r\n",
    "transaction_data   = pd.read_csv('transaction.csv', index_col=0)"
   ],
   "outputs": [],
   "metadata": {}
  },
  {
   "cell_type": "markdown",
   "source": [
    "### Clean Commune Data File"
   ],
   "metadata": {}
  },
  {
   "cell_type": "code",
   "execution_count": 36,
   "source": [
    "commune_data.head(2)"
   ],
   "outputs": [
    {
     "output_type": "execute_result",
     "data": {
      "text/plain": [
       "                Commune_FR Commune_Id  Departement ADM1_PCODE\n",
       "Commune_en                                                   \n",
       "Abricots          Abricots     HT0812  Grande'Anse       HT08\n",
       "Acul du Nord  Acul du Nord     HT0321        North       HT03"
      ],
      "text/html": [
       "<div>\n",
       "<style scoped>\n",
       "    .dataframe tbody tr th:only-of-type {\n",
       "        vertical-align: middle;\n",
       "    }\n",
       "\n",
       "    .dataframe tbody tr th {\n",
       "        vertical-align: top;\n",
       "    }\n",
       "\n",
       "    .dataframe thead th {\n",
       "        text-align: right;\n",
       "    }\n",
       "</style>\n",
       "<table border=\"1\" class=\"dataframe\">\n",
       "  <thead>\n",
       "    <tr style=\"text-align: right;\">\n",
       "      <th></th>\n",
       "      <th>Commune_FR</th>\n",
       "      <th>Commune_Id</th>\n",
       "      <th>Departement</th>\n",
       "      <th>ADM1_PCODE</th>\n",
       "    </tr>\n",
       "    <tr>\n",
       "      <th>Commune_en</th>\n",
       "      <th></th>\n",
       "      <th></th>\n",
       "      <th></th>\n",
       "      <th></th>\n",
       "    </tr>\n",
       "  </thead>\n",
       "  <tbody>\n",
       "    <tr>\n",
       "      <th>Abricots</th>\n",
       "      <td>Abricots</td>\n",
       "      <td>HT0812</td>\n",
       "      <td>Grande'Anse</td>\n",
       "      <td>HT08</td>\n",
       "    </tr>\n",
       "    <tr>\n",
       "      <th>Acul du Nord</th>\n",
       "      <td>Acul du Nord</td>\n",
       "      <td>HT0321</td>\n",
       "      <td>North</td>\n",
       "      <td>HT03</td>\n",
       "    </tr>\n",
       "  </tbody>\n",
       "</table>\n",
       "</div>"
      ]
     },
     "metadata": {},
     "execution_count": 36
    }
   ],
   "metadata": {}
  },
  {
   "cell_type": "code",
   "execution_count": 37,
   "source": [
    "#Select necessary columns\r\n",
    "commune_data = commune_data.loc[:,['Commune_FR', 'Commune_Id']]\r\n",
    "\r\n",
    "#Rename selected columns for a better use\r\n",
    "commune_data.columns = ['commune_name','commune_id']\r\n",
    "\r\n",
    "#set the index\r\n",
    "commune_data = commune_data.set_index('commune_id')"
   ],
   "outputs": [],
   "metadata": {}
  },
  {
   "cell_type": "code",
   "execution_count": 38,
   "source": [
    "commune_data.info()"
   ],
   "outputs": [
    {
     "output_type": "stream",
     "name": "stdout",
     "text": [
      "<class 'pandas.core.frame.DataFrame'>\n",
      "Index: 140 entries, HT0812 to HT0532\n",
      "Data columns (total 1 columns):\n",
      " #   Column        Non-Null Count  Dtype \n",
      "---  ------        --------------  ----- \n",
      " 0   commune_name  140 non-null    object\n",
      "dtypes: object(1)\n",
      "memory usage: 2.2+ KB\n"
     ]
    }
   ],
   "metadata": {}
  },
  {
   "cell_type": "code",
   "execution_count": 39,
   "source": [
    "commune_data.head(2)"
   ],
   "outputs": [
    {
     "output_type": "execute_result",
     "data": {
      "text/plain": [
       "            commune_name\n",
       "commune_id              \n",
       "HT0812          Abricots\n",
       "HT0321      Acul du Nord"
      ],
      "text/html": [
       "<div>\n",
       "<style scoped>\n",
       "    .dataframe tbody tr th:only-of-type {\n",
       "        vertical-align: middle;\n",
       "    }\n",
       "\n",
       "    .dataframe tbody tr th {\n",
       "        vertical-align: top;\n",
       "    }\n",
       "\n",
       "    .dataframe thead th {\n",
       "        text-align: right;\n",
       "    }\n",
       "</style>\n",
       "<table border=\"1\" class=\"dataframe\">\n",
       "  <thead>\n",
       "    <tr style=\"text-align: right;\">\n",
       "      <th></th>\n",
       "      <th>commune_name</th>\n",
       "    </tr>\n",
       "    <tr>\n",
       "      <th>commune_id</th>\n",
       "      <th></th>\n",
       "    </tr>\n",
       "  </thead>\n",
       "  <tbody>\n",
       "    <tr>\n",
       "      <th>HT0812</th>\n",
       "      <td>Abricots</td>\n",
       "    </tr>\n",
       "    <tr>\n",
       "      <th>HT0321</th>\n",
       "      <td>Acul du Nord</td>\n",
       "    </tr>\n",
       "  </tbody>\n",
       "</table>\n",
       "</div>"
      ]
     },
     "metadata": {},
     "execution_count": 39
    }
   ],
   "metadata": {}
  },
  {
   "cell_type": "markdown",
   "source": [
    "### Clean Quest Data File"
   ],
   "metadata": {}
  },
  {
   "cell_type": "code",
   "execution_count": 40,
   "source": [
    "quest_data.info()"
   ],
   "outputs": [
    {
     "output_type": "stream",
     "name": "stdout",
     "text": [
      "<class 'pandas.core.frame.DataFrame'>\n",
      "Int64Index: 250 entries, 0 to 249\n",
      "Data columns (total 16 columns):\n",
      " #   Column              Non-Null Count  Dtype \n",
      "---  ------              --------------  ----- \n",
      " 0   gender              250 non-null    object\n",
      " 1   dob                 244 non-null    object\n",
      " 2   commune             250 non-null    object\n",
      " 3   created_at          250 non-null    object\n",
      " 4   modified_at         250 non-null    object\n",
      " 5   department          249 non-null    object\n",
      " 6   education_level     250 non-null    object\n",
      " 7   university          250 non-null    object\n",
      " 8   study_domain        250 non-null    object\n",
      " 9   current_employed    250 non-null    object\n",
      " 10  formal_sector_job   250 non-null    object\n",
      " 11  have_computer_home  250 non-null    object\n",
      " 12  internet_at_home    250 non-null    object\n",
      " 13  hear_AA_1           250 non-null    object\n",
      " 14  after_AA            250 non-null    object\n",
      " 15  quest_id            250 non-null    object\n",
      "dtypes: object(16)\n",
      "memory usage: 33.2+ KB\n"
     ]
    }
   ],
   "metadata": {}
  },
  {
   "cell_type": "code",
   "execution_count": 41,
   "source": [
    "###Drop unwanted column\r\n",
    "quest_data.drop(columns=['modified_at','department','university','study_domain','current_employed'], inplace=True)\r\n",
    "\r\n",
    "###Rename columns for better use\r\n",
    "quest_data.columns = ['gender','dob','commune_id','application_date','education_level',\r\n",
    "                      'formal_sector_job','have_computer_home','internet_at_home',\r\n",
    "                      'communication_channels','bootcamp_insterest','quest_id']\r\n",
    "###Replace wrong dob format\r\n",
    "quest_data['dob'] = quest_data['dob'].replace(['3 aout 1977'],'03/08/1977')\r\n",
    "###Convert column dob to datetime \r\n",
    "quest_data['dob'] = pd.to_datetime(quest_data['dob'])\r\n",
    "quest_data['application_date'] = pd.to_datetime(quest_data['application_date'])\r\n",
    "###Fill Null Values with the average value\r\n",
    "quest_data.dob = quest_data['dob'].fillna(value=quest_data.dob.mean())\r\n",
    "#set the data in quest.commune_id to upper\r\n",
    "quest_data['commune_id'] = quest_data['commune_id'].str.upper()\r\n",
    "\r\n",
    "quest_data = quest_data.set_index('commune_id')"
   ],
   "outputs": [],
   "metadata": {}
  },
  {
   "cell_type": "code",
   "execution_count": 42,
   "source": [
    "quest_data.info()"
   ],
   "outputs": [
    {
     "output_type": "stream",
     "name": "stdout",
     "text": [
      "<class 'pandas.core.frame.DataFrame'>\n",
      "Index: 250 entries, HT0111 to HT1012\n",
      "Data columns (total 10 columns):\n",
      " #   Column                  Non-Null Count  Dtype              \n",
      "---  ------                  --------------  -----              \n",
      " 0   gender                  250 non-null    object             \n",
      " 1   dob                     250 non-null    datetime64[ns]     \n",
      " 2   application_date        250 non-null    datetime64[ns, UTC]\n",
      " 3   education_level         250 non-null    object             \n",
      " 4   formal_sector_job       250 non-null    object             \n",
      " 5   have_computer_home      250 non-null    object             \n",
      " 6   internet_at_home        250 non-null    object             \n",
      " 7   communication_channels  250 non-null    object             \n",
      " 8   bootcamp_insterest      250 non-null    object             \n",
      " 9   quest_id                250 non-null    object             \n",
      "dtypes: datetime64[ns, UTC](1), datetime64[ns](1), object(8)\n",
      "memory usage: 21.5+ KB\n"
     ]
    }
   ],
   "metadata": {}
  },
  {
   "cell_type": "code",
   "execution_count": 43,
   "source": [
    "f_merge = pd.merge(left =commune_data,right=quest_data,how=\"inner\",on=\"commune_id\")\r\n",
    "f_merge.info()"
   ],
   "outputs": [
    {
     "output_type": "stream",
     "name": "stdout",
     "text": [
      "<class 'pandas.core.frame.DataFrame'>\n",
      "Index: 250 entries, HT0731 to HT0532\n",
      "Data columns (total 11 columns):\n",
      " #   Column                  Non-Null Count  Dtype              \n",
      "---  ------                  --------------  -----              \n",
      " 0   commune_name            250 non-null    object             \n",
      " 1   gender                  250 non-null    object             \n",
      " 2   dob                     250 non-null    datetime64[ns]     \n",
      " 3   application_date        250 non-null    datetime64[ns, UTC]\n",
      " 4   education_level         250 non-null    object             \n",
      " 5   formal_sector_job       250 non-null    object             \n",
      " 6   have_computer_home      250 non-null    object             \n",
      " 7   internet_at_home        250 non-null    object             \n",
      " 8   communication_channels  250 non-null    object             \n",
      " 9   bootcamp_insterest      250 non-null    object             \n",
      " 10  quest_id                250 non-null    object             \n",
      "dtypes: datetime64[ns, UTC](1), datetime64[ns](1), object(9)\n",
      "memory usage: 23.4+ KB\n"
     ]
    }
   ],
   "metadata": {}
  },
  {
   "cell_type": "markdown",
   "source": [
    "### Clean Ord Data File"
   ],
   "metadata": {}
  },
  {
   "cell_type": "code",
   "execution_count": 44,
   "source": [
    "# Creating the payment column \r\n",
    "ord_data['paid']= 'yes'\r\n",
    "ord_data=ord_data.loc[:,['created_at','user_id','paid']]\r\n",
    "ord_data.head(2)"
   ],
   "outputs": [
    {
     "output_type": "execute_result",
     "data": {
      "text/plain": [
       "                 created_at   user_id paid\n",
       "0  2021-03-14T15:34:35.014Z  41587952  yes\n",
       "1  2021-03-14T04:20:23.483Z  41564742  yes"
      ],
      "text/html": [
       "<div>\n",
       "<style scoped>\n",
       "    .dataframe tbody tr th:only-of-type {\n",
       "        vertical-align: middle;\n",
       "    }\n",
       "\n",
       "    .dataframe tbody tr th {\n",
       "        vertical-align: top;\n",
       "    }\n",
       "\n",
       "    .dataframe thead th {\n",
       "        text-align: right;\n",
       "    }\n",
       "</style>\n",
       "<table border=\"1\" class=\"dataframe\">\n",
       "  <thead>\n",
       "    <tr style=\"text-align: right;\">\n",
       "      <th></th>\n",
       "      <th>created_at</th>\n",
       "      <th>user_id</th>\n",
       "      <th>paid</th>\n",
       "    </tr>\n",
       "  </thead>\n",
       "  <tbody>\n",
       "    <tr>\n",
       "      <th>0</th>\n",
       "      <td>2021-03-14T15:34:35.014Z</td>\n",
       "      <td>41587952</td>\n",
       "      <td>yes</td>\n",
       "    </tr>\n",
       "    <tr>\n",
       "      <th>1</th>\n",
       "      <td>2021-03-14T04:20:23.483Z</td>\n",
       "      <td>41564742</td>\n",
       "      <td>yes</td>\n",
       "    </tr>\n",
       "  </tbody>\n",
       "</table>\n",
       "</div>"
      ]
     },
     "metadata": {},
     "execution_count": 44
    }
   ],
   "metadata": {}
  },
  {
   "cell_type": "markdown",
   "source": [
    "### Setting up Transanctio Data File"
   ],
   "metadata": {}
  },
  {
   "cell_type": "code",
   "execution_count": 45,
   "source": [
    "transaction_data['paid'] = 'yes'\r\n",
    "transaction_data = transaction_data.loc[:,['created_at','user_id','paid']]\r\n",
    "transaction_data.head(2)"
   ],
   "outputs": [
    {
     "output_type": "execute_result",
     "data": {
      "text/plain": [
       "                 created_at   user_id paid\n",
       "0  2021-03-08T05:08:50.832Z  40976440  yes\n",
       "1  2021-03-08T17:26:35.841Z  41179271  yes"
      ],
      "text/html": [
       "<div>\n",
       "<style scoped>\n",
       "    .dataframe tbody tr th:only-of-type {\n",
       "        vertical-align: middle;\n",
       "    }\n",
       "\n",
       "    .dataframe tbody tr th {\n",
       "        vertical-align: top;\n",
       "    }\n",
       "\n",
       "    .dataframe thead th {\n",
       "        text-align: right;\n",
       "    }\n",
       "</style>\n",
       "<table border=\"1\" class=\"dataframe\">\n",
       "  <thead>\n",
       "    <tr style=\"text-align: right;\">\n",
       "      <th></th>\n",
       "      <th>created_at</th>\n",
       "      <th>user_id</th>\n",
       "      <th>paid</th>\n",
       "    </tr>\n",
       "  </thead>\n",
       "  <tbody>\n",
       "    <tr>\n",
       "      <th>0</th>\n",
       "      <td>2021-03-08T05:08:50.832Z</td>\n",
       "      <td>40976440</td>\n",
       "      <td>yes</td>\n",
       "    </tr>\n",
       "    <tr>\n",
       "      <th>1</th>\n",
       "      <td>2021-03-08T17:26:35.841Z</td>\n",
       "      <td>41179271</td>\n",
       "      <td>yes</td>\n",
       "    </tr>\n",
       "  </tbody>\n",
       "</table>\n",
       "</div>"
      ]
     },
     "metadata": {},
     "execution_count": 45
    }
   ],
   "metadata": {}
  },
  {
   "cell_type": "code",
   "execution_count": 46,
   "source": [
    "#Concat Transaction and Ord Data File\r\n",
    "trans_ord=pd.concat([transaction_data,ord_data], axis=0)\r\n",
    "trans_ord=trans_ord.rename(columns={'created_at':'payment_date'})\r\n",
    "trans_ord"
   ],
   "outputs": [
    {
     "output_type": "execute_result",
     "data": {
      "text/plain": [
       "                payment_date   user_id paid\n",
       "0   2021-03-08T05:08:50.832Z  40976440  yes\n",
       "1   2021-03-08T17:26:35.841Z  41179271  yes\n",
       "2   2021-03-08T18:52:09.147Z  40973512  yes\n",
       "3   2021-03-08T19:06:32.837Z  41177453  yes\n",
       "4   2021-03-08T22:10:00.796Z  40797121  yes\n",
       "..                       ...       ...  ...\n",
       "13  2021-02-18T14:45:02.292Z  39908510  yes\n",
       "14  2021-02-17T13:48:38.371Z  39903501  yes\n",
       "15  2021-02-17T11:08:54.385Z  39896120  yes\n",
       "16  2021-02-16T20:09:31.627Z  39856539  yes\n",
       "17  2021-01-05T04:00:41.222Z  34856150  yes\n",
       "\n",
       "[78 rows x 3 columns]"
      ],
      "text/html": [
       "<div>\n",
       "<style scoped>\n",
       "    .dataframe tbody tr th:only-of-type {\n",
       "        vertical-align: middle;\n",
       "    }\n",
       "\n",
       "    .dataframe tbody tr th {\n",
       "        vertical-align: top;\n",
       "    }\n",
       "\n",
       "    .dataframe thead th {\n",
       "        text-align: right;\n",
       "    }\n",
       "</style>\n",
       "<table border=\"1\" class=\"dataframe\">\n",
       "  <thead>\n",
       "    <tr style=\"text-align: right;\">\n",
       "      <th></th>\n",
       "      <th>payment_date</th>\n",
       "      <th>user_id</th>\n",
       "      <th>paid</th>\n",
       "    </tr>\n",
       "  </thead>\n",
       "  <tbody>\n",
       "    <tr>\n",
       "      <th>0</th>\n",
       "      <td>2021-03-08T05:08:50.832Z</td>\n",
       "      <td>40976440</td>\n",
       "      <td>yes</td>\n",
       "    </tr>\n",
       "    <tr>\n",
       "      <th>1</th>\n",
       "      <td>2021-03-08T17:26:35.841Z</td>\n",
       "      <td>41179271</td>\n",
       "      <td>yes</td>\n",
       "    </tr>\n",
       "    <tr>\n",
       "      <th>2</th>\n",
       "      <td>2021-03-08T18:52:09.147Z</td>\n",
       "      <td>40973512</td>\n",
       "      <td>yes</td>\n",
       "    </tr>\n",
       "    <tr>\n",
       "      <th>3</th>\n",
       "      <td>2021-03-08T19:06:32.837Z</td>\n",
       "      <td>41177453</td>\n",
       "      <td>yes</td>\n",
       "    </tr>\n",
       "    <tr>\n",
       "      <th>4</th>\n",
       "      <td>2021-03-08T22:10:00.796Z</td>\n",
       "      <td>40797121</td>\n",
       "      <td>yes</td>\n",
       "    </tr>\n",
       "    <tr>\n",
       "      <th>...</th>\n",
       "      <td>...</td>\n",
       "      <td>...</td>\n",
       "      <td>...</td>\n",
       "    </tr>\n",
       "    <tr>\n",
       "      <th>13</th>\n",
       "      <td>2021-02-18T14:45:02.292Z</td>\n",
       "      <td>39908510</td>\n",
       "      <td>yes</td>\n",
       "    </tr>\n",
       "    <tr>\n",
       "      <th>14</th>\n",
       "      <td>2021-02-17T13:48:38.371Z</td>\n",
       "      <td>39903501</td>\n",
       "      <td>yes</td>\n",
       "    </tr>\n",
       "    <tr>\n",
       "      <th>15</th>\n",
       "      <td>2021-02-17T11:08:54.385Z</td>\n",
       "      <td>39896120</td>\n",
       "      <td>yes</td>\n",
       "    </tr>\n",
       "    <tr>\n",
       "      <th>16</th>\n",
       "      <td>2021-02-16T20:09:31.627Z</td>\n",
       "      <td>39856539</td>\n",
       "      <td>yes</td>\n",
       "    </tr>\n",
       "    <tr>\n",
       "      <th>17</th>\n",
       "      <td>2021-01-05T04:00:41.222Z</td>\n",
       "      <td>34856150</td>\n",
       "      <td>yes</td>\n",
       "    </tr>\n",
       "  </tbody>\n",
       "</table>\n",
       "<p>78 rows × 3 columns</p>\n",
       "</div>"
      ]
     },
     "metadata": {},
     "execution_count": 46
    }
   ],
   "metadata": {}
  },
  {
   "cell_type": "code",
   "execution_count": 47,
   "source": [
    "##Setting up enroll file\r\n",
    "enroll_data = enroll_data.rename(columns={'created_at':'enroll_date'})\r\n",
    "enroll_data = enroll_data.loc[:,['enroll_date','user_id','quest_id']]\r\n",
    "enroll_data['is_enroll']='yes'\r\n",
    "enroll_data.info()"
   ],
   "outputs": [
    {
     "output_type": "stream",
     "name": "stdout",
     "text": [
      "<class 'pandas.core.frame.DataFrame'>\n",
      "Int64Index: 148 entries, 0 to 147\n",
      "Data columns (total 4 columns):\n",
      " #   Column       Non-Null Count  Dtype \n",
      "---  ------       --------------  ----- \n",
      " 0   enroll_date  148 non-null    object\n",
      " 1   user_id      148 non-null    int64 \n",
      " 2   quest_id     102 non-null    object\n",
      " 3   is_enroll    148 non-null    object\n",
      "dtypes: int64(1), object(3)\n",
      "memory usage: 5.8+ KB\n"
     ]
    }
   ],
   "metadata": {}
  },
  {
   "cell_type": "code",
   "execution_count": 48,
   "source": [
    "#Second merge between the concatenation result of Transaction and Ord Data File and Enroll Data File\r\n",
    "S_merge = pd.merge(left =trans_ord,right=enroll_data,how=\"right\",on=\"user_id\")\r\n",
    "S_merge.info()"
   ],
   "outputs": [
    {
     "output_type": "stream",
     "name": "stdout",
     "text": [
      "<class 'pandas.core.frame.DataFrame'>\n",
      "Int64Index: 148 entries, 0 to 147\n",
      "Data columns (total 6 columns):\n",
      " #   Column        Non-Null Count  Dtype \n",
      "---  ------        --------------  ----- \n",
      " 0   payment_date  77 non-null     object\n",
      " 1   user_id       148 non-null    int64 \n",
      " 2   paid          77 non-null     object\n",
      " 3   enroll_date   148 non-null    object\n",
      " 4   quest_id      102 non-null    object\n",
      " 5   is_enroll     148 non-null    object\n",
      "dtypes: int64(1), object(5)\n",
      "memory usage: 8.1+ KB\n"
     ]
    }
   ],
   "metadata": {}
  },
  {
   "cell_type": "code",
   "execution_count": 49,
   "source": [
    "#Merge the Fisrt dataset and the second one\r\n",
    "dataset = pd.merge(left =f_merge,right=S_merge,how=\"left\",on=\"quest_id\")\r\n",
    "dataset=dataset.drop(columns='user_id')\r\n",
    "dataset['is_enroll']= dataset['is_enroll'].fillna('no')\r\n",
    "dataset['paid']= dataset['paid'].fillna('no')"
   ],
   "outputs": [],
   "metadata": {}
  },
  {
   "cell_type": "code",
   "execution_count": 50,
   "source": [
    "#Function that calculate age from Date of birth \r\n",
    "from datetime import datetime, date\r\n",
    "def age(dob):\r\n",
    "    today = date.today()\r\n",
    "    return today.year - dob.year - ((today.month,today.day)< (dob.month,dob.day))"
   ],
   "outputs": [],
   "metadata": {}
  },
  {
   "cell_type": "code",
   "execution_count": 51,
   "source": [
    "dataset['age'] = dataset['dob'].apply(age)\r\n",
    "dataset.loc[:,['dob','age']]"
   ],
   "outputs": [
    {
     "output_type": "execute_result",
     "data": {
      "text/plain": [
       "           dob  age\n",
       "0   1995-12-05   25\n",
       "1   1995-09-16   25\n",
       "2   1987-04-19   34\n",
       "3   1991-09-08   29\n",
       "4   1987-02-22   34\n",
       "..         ...  ...\n",
       "245 1988-09-17   32\n",
       "246 1997-11-23   23\n",
       "247 1980-12-04   40\n",
       "248 1984-01-22   37\n",
       "249 1985-03-28   36\n",
       "\n",
       "[250 rows x 2 columns]"
      ],
      "text/html": [
       "<div>\n",
       "<style scoped>\n",
       "    .dataframe tbody tr th:only-of-type {\n",
       "        vertical-align: middle;\n",
       "    }\n",
       "\n",
       "    .dataframe tbody tr th {\n",
       "        vertical-align: top;\n",
       "    }\n",
       "\n",
       "    .dataframe thead th {\n",
       "        text-align: right;\n",
       "    }\n",
       "</style>\n",
       "<table border=\"1\" class=\"dataframe\">\n",
       "  <thead>\n",
       "    <tr style=\"text-align: right;\">\n",
       "      <th></th>\n",
       "      <th>dob</th>\n",
       "      <th>age</th>\n",
       "    </tr>\n",
       "  </thead>\n",
       "  <tbody>\n",
       "    <tr>\n",
       "      <th>0</th>\n",
       "      <td>1995-12-05</td>\n",
       "      <td>25</td>\n",
       "    </tr>\n",
       "    <tr>\n",
       "      <th>1</th>\n",
       "      <td>1995-09-16</td>\n",
       "      <td>25</td>\n",
       "    </tr>\n",
       "    <tr>\n",
       "      <th>2</th>\n",
       "      <td>1987-04-19</td>\n",
       "      <td>34</td>\n",
       "    </tr>\n",
       "    <tr>\n",
       "      <th>3</th>\n",
       "      <td>1991-09-08</td>\n",
       "      <td>29</td>\n",
       "    </tr>\n",
       "    <tr>\n",
       "      <th>4</th>\n",
       "      <td>1987-02-22</td>\n",
       "      <td>34</td>\n",
       "    </tr>\n",
       "    <tr>\n",
       "      <th>...</th>\n",
       "      <td>...</td>\n",
       "      <td>...</td>\n",
       "    </tr>\n",
       "    <tr>\n",
       "      <th>245</th>\n",
       "      <td>1988-09-17</td>\n",
       "      <td>32</td>\n",
       "    </tr>\n",
       "    <tr>\n",
       "      <th>246</th>\n",
       "      <td>1997-11-23</td>\n",
       "      <td>23</td>\n",
       "    </tr>\n",
       "    <tr>\n",
       "      <th>247</th>\n",
       "      <td>1980-12-04</td>\n",
       "      <td>40</td>\n",
       "    </tr>\n",
       "    <tr>\n",
       "      <th>248</th>\n",
       "      <td>1984-01-22</td>\n",
       "      <td>37</td>\n",
       "    </tr>\n",
       "    <tr>\n",
       "      <th>249</th>\n",
       "      <td>1985-03-28</td>\n",
       "      <td>36</td>\n",
       "    </tr>\n",
       "  </tbody>\n",
       "</table>\n",
       "<p>250 rows × 2 columns</p>\n",
       "</div>"
      ]
     },
     "metadata": {},
     "execution_count": 51
    }
   ],
   "metadata": {}
  },
  {
   "cell_type": "code",
   "execution_count": 52,
   "source": [
    "dataset.info()"
   ],
   "outputs": [
    {
     "output_type": "stream",
     "name": "stdout",
     "text": [
      "<class 'pandas.core.frame.DataFrame'>\n",
      "Int64Index: 250 entries, 0 to 249\n",
      "Data columns (total 16 columns):\n",
      " #   Column                  Non-Null Count  Dtype              \n",
      "---  ------                  --------------  -----              \n",
      " 0   commune_name            250 non-null    object             \n",
      " 1   gender                  250 non-null    object             \n",
      " 2   dob                     250 non-null    datetime64[ns]     \n",
      " 3   application_date        250 non-null    datetime64[ns, UTC]\n",
      " 4   education_level         250 non-null    object             \n",
      " 5   formal_sector_job       250 non-null    object             \n",
      " 6   have_computer_home      250 non-null    object             \n",
      " 7   internet_at_home        250 non-null    object             \n",
      " 8   communication_channels  250 non-null    object             \n",
      " 9   bootcamp_insterest      250 non-null    object             \n",
      " 10  quest_id                250 non-null    object             \n",
      " 11  payment_date            65 non-null     object             \n",
      " 12  paid                    250 non-null    object             \n",
      " 13  enroll_date             102 non-null    object             \n",
      " 14  is_enroll               250 non-null    object             \n",
      " 15  age                     250 non-null    int64              \n",
      "dtypes: datetime64[ns, UTC](1), datetime64[ns](1), int64(1), object(13)\n",
      "memory usage: 33.2+ KB\n"
     ]
    }
   ],
   "metadata": {}
  },
  {
   "cell_type": "code",
   "execution_count": 53,
   "source": [
    "#List of study domain using get_dummies methode to trnasforme row to column \r\n",
    "study_domain = pd.get_dummies(data=study_domain_data[[\"quest_id\", \"values\"]], columns=['values'],prefix =\"\",prefix_sep=\"\",dtype=int)\r\n",
    "study_domain =study_domain.groupby(\"quest_id\").sum()\r\n",
    "study_domain.head(2)"
   ],
   "outputs": [
    {
     "output_type": "execute_result",
     "data": {
      "text/plain": [
       "                                      Accounting  Computer Science  Economics  \\\n",
       "quest_id                                                                        \n",
       "905ddcf2-ce95-11eb-9a92-7c67a234f601           0                 0          0   \n",
       "905e4cf5-ce95-11eb-96a9-7c67a234f601           0                 1          0   \n",
       "\n",
       "                                      Electrical Engineering  Law  Management  \\\n",
       "quest_id                                                                        \n",
       "905ddcf2-ce95-11eb-9a92-7c67a234f601                       0    0           0   \n",
       "905e4cf5-ce95-11eb-96a9-7c67a234f601                       0    0           1   \n",
       "\n",
       "                                      Medicine  Statistics  other  \n",
       "quest_id                                                           \n",
       "905ddcf2-ce95-11eb-9a92-7c67a234f601         0           0      1  \n",
       "905e4cf5-ce95-11eb-96a9-7c67a234f601         0           0      0  "
      ],
      "text/html": [
       "<div>\n",
       "<style scoped>\n",
       "    .dataframe tbody tr th:only-of-type {\n",
       "        vertical-align: middle;\n",
       "    }\n",
       "\n",
       "    .dataframe tbody tr th {\n",
       "        vertical-align: top;\n",
       "    }\n",
       "\n",
       "    .dataframe thead th {\n",
       "        text-align: right;\n",
       "    }\n",
       "</style>\n",
       "<table border=\"1\" class=\"dataframe\">\n",
       "  <thead>\n",
       "    <tr style=\"text-align: right;\">\n",
       "      <th></th>\n",
       "      <th>Accounting</th>\n",
       "      <th>Computer Science</th>\n",
       "      <th>Economics</th>\n",
       "      <th>Electrical Engineering</th>\n",
       "      <th>Law</th>\n",
       "      <th>Management</th>\n",
       "      <th>Medicine</th>\n",
       "      <th>Statistics</th>\n",
       "      <th>other</th>\n",
       "    </tr>\n",
       "    <tr>\n",
       "      <th>quest_id</th>\n",
       "      <th></th>\n",
       "      <th></th>\n",
       "      <th></th>\n",
       "      <th></th>\n",
       "      <th></th>\n",
       "      <th></th>\n",
       "      <th></th>\n",
       "      <th></th>\n",
       "      <th></th>\n",
       "    </tr>\n",
       "  </thead>\n",
       "  <tbody>\n",
       "    <tr>\n",
       "      <th>905ddcf2-ce95-11eb-9a92-7c67a234f601</th>\n",
       "      <td>0</td>\n",
       "      <td>0</td>\n",
       "      <td>0</td>\n",
       "      <td>0</td>\n",
       "      <td>0</td>\n",
       "      <td>0</td>\n",
       "      <td>0</td>\n",
       "      <td>0</td>\n",
       "      <td>1</td>\n",
       "    </tr>\n",
       "    <tr>\n",
       "      <th>905e4cf5-ce95-11eb-96a9-7c67a234f601</th>\n",
       "      <td>0</td>\n",
       "      <td>1</td>\n",
       "      <td>0</td>\n",
       "      <td>0</td>\n",
       "      <td>0</td>\n",
       "      <td>1</td>\n",
       "      <td>0</td>\n",
       "      <td>0</td>\n",
       "      <td>0</td>\n",
       "    </tr>\n",
       "  </tbody>\n",
       "</table>\n",
       "</div>"
      ]
     },
     "metadata": {},
     "execution_count": 53
    }
   ],
   "metadata": {}
  },
  {
   "cell_type": "code",
   "execution_count": 54,
   "source": [
    "study_domain.columns"
   ],
   "outputs": [
    {
     "output_type": "execute_result",
     "data": {
      "text/plain": [
       "Index(['Accounting', 'Computer Science', 'Economics', 'Electrical Engineering',\n",
       "       'Law', 'Management', 'Medicine', 'Statistics', 'other'],\n",
       "      dtype='object')"
      ]
     },
     "metadata": {},
     "execution_count": 54
    }
   ],
   "metadata": {}
  },
  {
   "cell_type": "code",
   "execution_count": 55,
   "source": [
    "#List of technologies using get_dummies methode to trnasforme row to column\r\n",
    "technology = pd.get_dummies(data=technology_data[[\"quest_id\", \"values\"]], columns=['values'],prefix =\"\",prefix_sep=\"\",dtype=int)\r\n",
    "technology = technology.groupby(\"quest_id\").sum()\r\n",
    "technology.head(2)"
   ],
   "outputs": [
    {
     "output_type": "execute_result",
     "data": {
      "text/plain": [
       "                                      Bash  Excel  Git  Java  JavaScript  PHP  \\\n",
       "quest_id                                                                        \n",
       "905ddcf2-ce95-11eb-9a92-7c67a234f601     0      1    0     0           0    0   \n",
       "905e2608-ce95-11eb-809f-7c67a234f601     1      1    1     1           1    0   \n",
       "\n",
       "                                      PowerBI or Tableau  Python  R  SQL  VBA  \\\n",
       "quest_id                                                                        \n",
       "905ddcf2-ce95-11eb-9a92-7c67a234f601                   0       0  1    0    0   \n",
       "905e2608-ce95-11eb-809f-7c67a234f601                   0       1  0    1    0   \n",
       "\n",
       "                                      other  \n",
       "quest_id                                     \n",
       "905ddcf2-ce95-11eb-9a92-7c67a234f601      0  \n",
       "905e2608-ce95-11eb-809f-7c67a234f601      0  "
      ],
      "text/html": [
       "<div>\n",
       "<style scoped>\n",
       "    .dataframe tbody tr th:only-of-type {\n",
       "        vertical-align: middle;\n",
       "    }\n",
       "\n",
       "    .dataframe tbody tr th {\n",
       "        vertical-align: top;\n",
       "    }\n",
       "\n",
       "    .dataframe thead th {\n",
       "        text-align: right;\n",
       "    }\n",
       "</style>\n",
       "<table border=\"1\" class=\"dataframe\">\n",
       "  <thead>\n",
       "    <tr style=\"text-align: right;\">\n",
       "      <th></th>\n",
       "      <th>Bash</th>\n",
       "      <th>Excel</th>\n",
       "      <th>Git</th>\n",
       "      <th>Java</th>\n",
       "      <th>JavaScript</th>\n",
       "      <th>PHP</th>\n",
       "      <th>PowerBI or Tableau</th>\n",
       "      <th>Python</th>\n",
       "      <th>R</th>\n",
       "      <th>SQL</th>\n",
       "      <th>VBA</th>\n",
       "      <th>other</th>\n",
       "    </tr>\n",
       "    <tr>\n",
       "      <th>quest_id</th>\n",
       "      <th></th>\n",
       "      <th></th>\n",
       "      <th></th>\n",
       "      <th></th>\n",
       "      <th></th>\n",
       "      <th></th>\n",
       "      <th></th>\n",
       "      <th></th>\n",
       "      <th></th>\n",
       "      <th></th>\n",
       "      <th></th>\n",
       "      <th></th>\n",
       "    </tr>\n",
       "  </thead>\n",
       "  <tbody>\n",
       "    <tr>\n",
       "      <th>905ddcf2-ce95-11eb-9a92-7c67a234f601</th>\n",
       "      <td>0</td>\n",
       "      <td>1</td>\n",
       "      <td>0</td>\n",
       "      <td>0</td>\n",
       "      <td>0</td>\n",
       "      <td>0</td>\n",
       "      <td>0</td>\n",
       "      <td>0</td>\n",
       "      <td>1</td>\n",
       "      <td>0</td>\n",
       "      <td>0</td>\n",
       "      <td>0</td>\n",
       "    </tr>\n",
       "    <tr>\n",
       "      <th>905e2608-ce95-11eb-809f-7c67a234f601</th>\n",
       "      <td>1</td>\n",
       "      <td>1</td>\n",
       "      <td>1</td>\n",
       "      <td>1</td>\n",
       "      <td>1</td>\n",
       "      <td>0</td>\n",
       "      <td>0</td>\n",
       "      <td>1</td>\n",
       "      <td>0</td>\n",
       "      <td>1</td>\n",
       "      <td>0</td>\n",
       "      <td>0</td>\n",
       "    </tr>\n",
       "  </tbody>\n",
       "</table>\n",
       "</div>"
      ]
     },
     "metadata": {},
     "execution_count": 55
    }
   ],
   "metadata": {}
  },
  {
   "cell_type": "code",
   "execution_count": 56,
   "source": [
    "technology.columns"
   ],
   "outputs": [
    {
     "output_type": "execute_result",
     "data": {
      "text/plain": [
       "Index(['Bash', 'Excel', 'Git', 'Java', 'JavaScript', 'PHP',\n",
       "       'PowerBI or Tableau', 'Python', 'R', 'SQL', 'VBA', 'other'],\n",
       "      dtype='object')"
      ]
     },
     "metadata": {},
     "execution_count": 56
    }
   ],
   "metadata": {}
  },
  {
   "cell_type": "code",
   "execution_count": 57,
   "source": [
    "dataset_tt = pd.merge(left =dataset,right=technology,how=\"outer\",on=\"quest_id\")\r\n",
    "dataset_tt = pd.merge(left =dataset_tt,right=study_domain,how=\"outer\",on=\"quest_id\")"
   ],
   "outputs": [],
   "metadata": {}
  },
  {
   "cell_type": "code",
   "execution_count": 58,
   "source": [
    "dataset_tt.info()"
   ],
   "outputs": [
    {
     "output_type": "stream",
     "name": "stdout",
     "text": [
      "<class 'pandas.core.frame.DataFrame'>\n",
      "Int64Index: 250 entries, 0 to 249\n",
      "Data columns (total 37 columns):\n",
      " #   Column                  Non-Null Count  Dtype              \n",
      "---  ------                  --------------  -----              \n",
      " 0   commune_name            250 non-null    object             \n",
      " 1   gender                  250 non-null    object             \n",
      " 2   dob                     250 non-null    datetime64[ns]     \n",
      " 3   application_date        250 non-null    datetime64[ns, UTC]\n",
      " 4   education_level         250 non-null    object             \n",
      " 5   formal_sector_job       250 non-null    object             \n",
      " 6   have_computer_home      250 non-null    object             \n",
      " 7   internet_at_home        250 non-null    object             \n",
      " 8   communication_channels  250 non-null    object             \n",
      " 9   bootcamp_insterest      250 non-null    object             \n",
      " 10  quest_id                250 non-null    object             \n",
      " 11  payment_date            65 non-null     object             \n",
      " 12  paid                    250 non-null    object             \n",
      " 13  enroll_date             102 non-null    object             \n",
      " 14  is_enroll               250 non-null    object             \n",
      " 15  age                     250 non-null    int64              \n",
      " 16  Bash                    244 non-null    float64            \n",
      " 17  Excel                   244 non-null    float64            \n",
      " 18  Git                     244 non-null    float64            \n",
      " 19  Java                    244 non-null    float64            \n",
      " 20  JavaScript              244 non-null    float64            \n",
      " 21  PHP                     244 non-null    float64            \n",
      " 22  PowerBI or Tableau      244 non-null    float64            \n",
      " 23  Python                  244 non-null    float64            \n",
      " 24  R                       244 non-null    float64            \n",
      " 25  SQL                     244 non-null    float64            \n",
      " 26  VBA                     244 non-null    float64            \n",
      " 27  other_x                 244 non-null    float64            \n",
      " 28  Accounting              244 non-null    float64            \n",
      " 29  Computer Science        244 non-null    float64            \n",
      " 30  Economics               244 non-null    float64            \n",
      " 31  Electrical Engineering  244 non-null    float64            \n",
      " 32  Law                     244 non-null    float64            \n",
      " 33  Management              244 non-null    float64            \n",
      " 34  Medicine                244 non-null    float64            \n",
      " 35  Statistics              244 non-null    float64            \n",
      " 36  other_y                 244 non-null    float64            \n",
      "dtypes: datetime64[ns, UTC](1), datetime64[ns](1), float64(21), int64(1), object(13)\n",
      "memory usage: 74.2+ KB\n"
     ]
    }
   ],
   "metadata": {}
  },
  {
   "cell_type": "code",
   "execution_count": 59,
   "source": [
    "dataset_tt = dataset_tt.drop(columns=['other_y','other_x'])"
   ],
   "outputs": [],
   "metadata": {}
  },
  {
   "cell_type": "code",
   "execution_count": 60,
   "source": [
    "dataset_tt.info()"
   ],
   "outputs": [
    {
     "output_type": "stream",
     "name": "stdout",
     "text": [
      "<class 'pandas.core.frame.DataFrame'>\n",
      "Int64Index: 250 entries, 0 to 249\n",
      "Data columns (total 35 columns):\n",
      " #   Column                  Non-Null Count  Dtype              \n",
      "---  ------                  --------------  -----              \n",
      " 0   commune_name            250 non-null    object             \n",
      " 1   gender                  250 non-null    object             \n",
      " 2   dob                     250 non-null    datetime64[ns]     \n",
      " 3   application_date        250 non-null    datetime64[ns, UTC]\n",
      " 4   education_level         250 non-null    object             \n",
      " 5   formal_sector_job       250 non-null    object             \n",
      " 6   have_computer_home      250 non-null    object             \n",
      " 7   internet_at_home        250 non-null    object             \n",
      " 8   communication_channels  250 non-null    object             \n",
      " 9   bootcamp_insterest      250 non-null    object             \n",
      " 10  quest_id                250 non-null    object             \n",
      " 11  payment_date            65 non-null     object             \n",
      " 12  paid                    250 non-null    object             \n",
      " 13  enroll_date             102 non-null    object             \n",
      " 14  is_enroll               250 non-null    object             \n",
      " 15  age                     250 non-null    int64              \n",
      " 16  Bash                    244 non-null    float64            \n",
      " 17  Excel                   244 non-null    float64            \n",
      " 18  Git                     244 non-null    float64            \n",
      " 19  Java                    244 non-null    float64            \n",
      " 20  JavaScript              244 non-null    float64            \n",
      " 21  PHP                     244 non-null    float64            \n",
      " 22  PowerBI or Tableau      244 non-null    float64            \n",
      " 23  Python                  244 non-null    float64            \n",
      " 24  R                       244 non-null    float64            \n",
      " 25  SQL                     244 non-null    float64            \n",
      " 26  VBA                     244 non-null    float64            \n",
      " 27  Accounting              244 non-null    float64            \n",
      " 28  Computer Science        244 non-null    float64            \n",
      " 29  Economics               244 non-null    float64            \n",
      " 30  Electrical Engineering  244 non-null    float64            \n",
      " 31  Law                     244 non-null    float64            \n",
      " 32  Management              244 non-null    float64            \n",
      " 33  Medicine                244 non-null    float64            \n",
      " 34  Statistics              244 non-null    float64            \n",
      "dtypes: datetime64[ns, UTC](1), datetime64[ns](1), float64(19), int64(1), object(13)\n",
      "memory usage: 70.3+ KB\n"
     ]
    }
   ],
   "metadata": {}
  },
  {
   "cell_type": "code",
   "execution_count": 61,
   "source": [
    "cols=dataset_tt.iloc[:,16:].columns\r\n",
    "for i in cols:\r\n",
    "    dataset_tt[i]= dataset_tt[i].fillna(0.0)\r\n",
    "dataset_tt.info()"
   ],
   "outputs": [
    {
     "output_type": "stream",
     "name": "stdout",
     "text": [
      "<class 'pandas.core.frame.DataFrame'>\n",
      "Int64Index: 250 entries, 0 to 249\n",
      "Data columns (total 35 columns):\n",
      " #   Column                  Non-Null Count  Dtype              \n",
      "---  ------                  --------------  -----              \n",
      " 0   commune_name            250 non-null    object             \n",
      " 1   gender                  250 non-null    object             \n",
      " 2   dob                     250 non-null    datetime64[ns]     \n",
      " 3   application_date        250 non-null    datetime64[ns, UTC]\n",
      " 4   education_level         250 non-null    object             \n",
      " 5   formal_sector_job       250 non-null    object             \n",
      " 6   have_computer_home      250 non-null    object             \n",
      " 7   internet_at_home        250 non-null    object             \n",
      " 8   communication_channels  250 non-null    object             \n",
      " 9   bootcamp_insterest      250 non-null    object             \n",
      " 10  quest_id                250 non-null    object             \n",
      " 11  payment_date            65 non-null     object             \n",
      " 12  paid                    250 non-null    object             \n",
      " 13  enroll_date             102 non-null    object             \n",
      " 14  is_enroll               250 non-null    object             \n",
      " 15  age                     250 non-null    int64              \n",
      " 16  Bash                    250 non-null    float64            \n",
      " 17  Excel                   250 non-null    float64            \n",
      " 18  Git                     250 non-null    float64            \n",
      " 19  Java                    250 non-null    float64            \n",
      " 20  JavaScript              250 non-null    float64            \n",
      " 21  PHP                     250 non-null    float64            \n",
      " 22  PowerBI or Tableau      250 non-null    float64            \n",
      " 23  Python                  250 non-null    float64            \n",
      " 24  R                       250 non-null    float64            \n",
      " 25  SQL                     250 non-null    float64            \n",
      " 26  VBA                     250 non-null    float64            \n",
      " 27  Accounting              250 non-null    float64            \n",
      " 28  Computer Science        250 non-null    float64            \n",
      " 29  Economics               250 non-null    float64            \n",
      " 30  Electrical Engineering  250 non-null    float64            \n",
      " 31  Law                     250 non-null    float64            \n",
      " 32  Management              250 non-null    float64            \n",
      " 33  Medicine                250 non-null    float64            \n",
      " 34  Statistics              250 non-null    float64            \n",
      "dtypes: datetime64[ns, UTC](1), datetime64[ns](1), float64(19), int64(1), object(13)\n",
      "memory usage: 70.3+ KB\n"
     ]
    }
   ],
   "metadata": {}
  },
  {
   "cell_type": "code",
   "execution_count": 62,
   "source": [
    "dataset_tt.shape"
   ],
   "outputs": [
    {
     "output_type": "execute_result",
     "data": {
      "text/plain": [
       "(250, 35)"
      ]
     },
     "metadata": {},
     "execution_count": 62
    }
   ],
   "metadata": {}
  },
  {
   "cell_type": "markdown",
   "source": [
    "###  1. How many observations and variables are there in the dataset\n",
    " "
   ],
   "metadata": {}
  },
  {
   "cell_type": "code",
   "execution_count": 63,
   "source": [
    "# here your codes\r\n",
    "print('1.1-. The number of observations found in the dataset are',dataset_tt.shape[0])\r\n",
    "print('1.2-. The number of variables found in the dataset are',dataset_tt.shape[1])"
   ],
   "outputs": [
    {
     "output_type": "stream",
     "name": "stdout",
     "text": [
      "1.1-. The number of observations found in the dataset are 250\n",
      "1.2-. The number of variables found in the dataset are 35\n"
     ]
    }
   ],
   "metadata": {}
  },
  {
   "cell_type": "markdown",
   "source": [
    "### 2.A Calculate the average age of the observations\n",
    "   * On the whole dataset\n",
    "   * On the whole male dataset\n",
    "   * On all the female dataset\n",
    "### 2.B Calculate \n",
    "   * variance of the whole datatset,male and female\n",
    "   * kurtosis of the whole datatset,male and female\n",
    "   * skewness of the whole datatset,male and female\n",
    "### 2.C Does the age distribution follow a normal distribution \n",
    "   "
   ],
   "metadata": {}
  },
  {
   "cell_type": "code",
   "execution_count": 64,
   "source": [
    "# here your codes\r\n",
    "print('---------------2.A-. Average---------------')\r\n",
    "average_age = dataset_tt['age'].mean()\r\n",
    "print('2.1-. The average age of the whole dataset is ',int(average_age))\r\n",
    "\r\n",
    "average_male_age = dataset_tt[dataset_tt['gender']=='male']['age'].mean()\r\n",
    "print('2.2-. The average age of male gender is ',int(average_male_age))\r\n",
    "\r\n",
    "average_female_age = dataset_tt[dataset_tt['gender']=='female']['age'].mean()\r\n",
    "print('2.3-. The average age of female is ',int(average_female_age))\r\n",
    "\r\n",
    "print('---------------2.B-. Variance---------------')\r\n",
    "age_var = dataset_tt['age'].var()\r\n",
    "print('2.1-. The variance age of the whole dataset is ',age_var)\r\n",
    "\r\n",
    "var_male_age = dataset_tt[dataset_tt['gender']=='male']['age'].var()\r\n",
    "print('2.2-. The variance age of male gender is ',var_male_age)\r\n",
    "\r\n",
    "var_female_age = dataset_tt[dataset_tt['gender']=='female']['age'].var()\r\n",
    "print('2.3-. The variance age of female is ',var_female_age)\r\n",
    "\r\n",
    "print('---------------2.B.a-. Kurtosis---------------')\r\n",
    "age_kurtosis = dataset_tt['age'].kurtosis()\r\n",
    "print('2.1-. The kurtosis of age of the whole dataset is ',age_kurtosis)\r\n",
    "\r\n",
    "kurt_male_age = dataset_tt[dataset_tt['gender']=='male']['age'].kurtosis()\r\n",
    "print('2.2-. The kurtosis of age of male gender is ',kurt_male_age)\r\n",
    "\r\n",
    "kurt_female_age = dataset_tt[dataset_tt['gender']=='female']['age'].kurtosis()\r\n",
    "print('2.3-. The kurtosis of age of female is ',kurt_female_age)\r\n",
    "\r\n",
    "print('---------------2.B.b-. Skewness---------------')\r\n",
    "age_skew = dataset_tt['age'].skew()\r\n",
    "print('2.1-. The Skewness of age of the whole dataset is ',age_skew)\r\n",
    "\r\n",
    "skew_male_age = dataset_tt[dataset_tt['gender']=='male']['age'].skew()\r\n",
    "print('2.2-. The Skewness of age of male gender is ',skew_male_age)\r\n",
    "\r\n",
    "skew_female_age = dataset_tt[dataset_tt['gender']=='female']['age'].skew()\r\n",
    "print('2.3-. The Skewness of age of female is ',skew_female_age)\r\n",
    "\r\n",
    "print('---------------2.C-. Check Normal Distribution---------------')\r\n",
    "'''To check if the distribution is normal, applying a statistics test is one of the to prove it's normality or not\r\n",
    "Shapiro-Wilk test: This test is used to assess the normality of data'''\r\n",
    "\r\n",
    "print(\"2.1-. Shapiro-Wilk Test for The whole dataset: \",shapiro(dataset_tt['age']))\r\n",
    "print(\"2.2-. Shapiro-Wilk Test for Female Sample: \",shapiro(dataset_tt[dataset_tt['gender']=='female']['age']))\r\n",
    "print(\"2.3-. Shapiro-Wilk Test for Male Sample: \",shapiro(dataset_tt[dataset_tt['gender']=='male']['age']))\r\n",
    "\r\n"
   ],
   "outputs": [
    {
     "output_type": "stream",
     "name": "stdout",
     "text": [
      "---------------2.A-. Average---------------\n",
      "2.1-. The average age of the whole dataset is  26\n",
      "2.2-. The average age of male gender is  27\n",
      "2.3-. The average age of female is  25\n",
      "---------------2.B-. Variance---------------\n",
      "2.1-. The variance age of the whole dataset is  50.62690763052209\n",
      "2.2-. The variance age of male gender is  49.0309710774033\n",
      "2.3-. The variance age of female is  56.297872340425535\n",
      "---------------2.B.a-. Kurtosis---------------\n",
      "2.1-. The kurtosis of age of the whole dataset is  5.170329025014944\n",
      "2.2-. The kurtosis of age of male gender is  5.388166319105386\n",
      "2.3-. The kurtosis of age of female is  5.20223437203292\n",
      "---------------2.B.b-. Skewness---------------\n",
      "2.1-. The Skewness of age of the whole dataset is  -0.6663859196316283\n",
      "2.2-. The Skewness of age of male gender is  -0.631700122273029\n",
      "2.3-. The Skewness of age of female is  -0.7824814474104648\n",
      "---------------2.C-. Check Normal Distribution---------------\n",
      "2.1-. Shapiro-Wilk Test for The whole dataset:  ShapiroResult(statistic=0.8547980785369873, pvalue=1.370063679612685e-14)\n",
      "2.2-. Shapiro-Wilk Test for Female Sample:  ShapiroResult(statistic=0.8155454397201538, pvalue=3.6060423553863075e-06)\n",
      "2.3-. Shapiro-Wilk Test for Male Sample:  ShapiroResult(statistic=0.8610326051712036, pvalue=1.1869759732399676e-12)\n"
     ]
    }
   ],
   "metadata": {}
  },
  {
   "cell_type": "markdown",
   "source": [
    "### 3.Display the age frequency disbrution\n",
    "   * On the whole dataset\n",
    "   * On the whole male dataset\n",
    "   * On all the female dataset"
   ],
   "metadata": {}
  },
  {
   "cell_type": "code",
   "execution_count": 109,
   "source": [
    "#here your codes\r\n",
    "bins = 50\r\n",
    "sns.displot(final_tab['Age'],bins = bins,kde = True)"
   ],
   "outputs": [
    {
     "output_type": "error",
     "ename": "NameError",
     "evalue": "name 'final_tab' is not defined",
     "traceback": [
      "\u001b[1;31m---------------------------------------------------------------------------\u001b[0m",
      "\u001b[1;31mNameError\u001b[0m                                 Traceback (most recent call last)",
      "\u001b[1;32m<ipython-input-109-8bdcb43caf0b>\u001b[0m in \u001b[0;36m<module>\u001b[1;34m\u001b[0m\n\u001b[0;32m      1\u001b[0m \u001b[1;31m#here your codes\u001b[0m\u001b[1;33m\u001b[0m\u001b[1;33m\u001b[0m\u001b[1;33m\u001b[0m\u001b[0m\n\u001b[0;32m      2\u001b[0m \u001b[0mbins\u001b[0m \u001b[1;33m=\u001b[0m \u001b[1;36m50\u001b[0m\u001b[1;33m\u001b[0m\u001b[1;33m\u001b[0m\u001b[0m\n\u001b[1;32m----> 3\u001b[1;33m \u001b[0msns\u001b[0m\u001b[1;33m.\u001b[0m\u001b[0mdisplot\u001b[0m\u001b[1;33m(\u001b[0m\u001b[0mfinal_tab\u001b[0m\u001b[1;33m[\u001b[0m\u001b[1;34m'Age'\u001b[0m\u001b[1;33m]\u001b[0m\u001b[1;33m,\u001b[0m\u001b[0mbins\u001b[0m \u001b[1;33m=\u001b[0m \u001b[0mbins\u001b[0m\u001b[1;33m,\u001b[0m\u001b[0mkde\u001b[0m \u001b[1;33m=\u001b[0m \u001b[1;32mTrue\u001b[0m\u001b[1;33m)\u001b[0m\u001b[1;33m\u001b[0m\u001b[1;33m\u001b[0m\u001b[0m\n\u001b[0m",
      "\u001b[1;31mNameError\u001b[0m: name 'final_tab' is not defined"
     ]
    }
   ],
   "metadata": {}
  },
  {
   "cell_type": "markdown",
   "source": [
    "### 4. Can we say that the average age (24 years old) of the observations can be considered as the average age of the population likely to participate in this bootcamp. Justify your answer"
   ],
   "metadata": {}
  },
  {
   "cell_type": "code",
   "execution_count": 81,
   "source": [
    "#here your codes\r\n",
    "print('H0 : Average_Age  = 24') \r\n",
    "print('H1 : Average_Age != 24')\r\n",
    "\r\n",
    "stat, p_value = wilcoxon(dataset_tt.age - 24)\r\n",
    "print('Statistics = ',stat, '\\np_value = ',p_value)\r\n",
    "# interpretation\r\n",
    "alpha = 0.05\r\n",
    "if alpha > alpha:\r\n",
    "\tprint('Ho: mu=24 (fail to reject H0)')\r\n",
    "else:\r\n",
    "\tprint('H1: mu!= 24 (reject H0)')"
   ],
   "outputs": [
    {
     "output_type": "stream",
     "name": "stdout",
     "text": [
      "H0 : Average_Age  = 24\n",
      "H1 : Average_Age != 24\n",
      "Statistics =  4907.0 \n",
      "p_value =  4.3619791623106024e-16\n",
      "H1: mu!= 24 (reject H0)\n"
     ]
    }
   ],
   "metadata": {}
  },
  {
   "cell_type": "markdown",
   "source": [
    "### 5. Calculate the average age of participants for each communication channel"
   ],
   "metadata": {}
  },
  {
   "cell_type": "code",
   "execution_count": 67,
   "source": [
    "#here your codes\r\n",
    "display( dataset_tt['age'].groupby(by= dataset_tt['communication_channels']).mean().to_frame())"
   ],
   "outputs": [
    {
     "output_type": "display_data",
     "data": {
      "text/plain": [
       "                               age\n",
       "communication_channels            \n",
       "Ayiti Analytics Website  27.266667\n",
       "Bootcamp Alumni          26.714286\n",
       "ESIH                     23.888889\n",
       "Facebook                 26.450000\n",
       "Friend                   26.970149\n",
       "Instagram                25.400000\n",
       "LinkedIn                 30.333333\n",
       "WhatsApp                 26.878788\n",
       "other                    28.777778\n",
       "unknown                  22.000000"
      ],
      "text/html": [
       "<div>\n",
       "<style scoped>\n",
       "    .dataframe tbody tr th:only-of-type {\n",
       "        vertical-align: middle;\n",
       "    }\n",
       "\n",
       "    .dataframe tbody tr th {\n",
       "        vertical-align: top;\n",
       "    }\n",
       "\n",
       "    .dataframe thead th {\n",
       "        text-align: right;\n",
       "    }\n",
       "</style>\n",
       "<table border=\"1\" class=\"dataframe\">\n",
       "  <thead>\n",
       "    <tr style=\"text-align: right;\">\n",
       "      <th></th>\n",
       "      <th>age</th>\n",
       "    </tr>\n",
       "    <tr>\n",
       "      <th>communication_channels</th>\n",
       "      <th></th>\n",
       "    </tr>\n",
       "  </thead>\n",
       "  <tbody>\n",
       "    <tr>\n",
       "      <th>Ayiti Analytics Website</th>\n",
       "      <td>27.266667</td>\n",
       "    </tr>\n",
       "    <tr>\n",
       "      <th>Bootcamp Alumni</th>\n",
       "      <td>26.714286</td>\n",
       "    </tr>\n",
       "    <tr>\n",
       "      <th>ESIH</th>\n",
       "      <td>23.888889</td>\n",
       "    </tr>\n",
       "    <tr>\n",
       "      <th>Facebook</th>\n",
       "      <td>26.450000</td>\n",
       "    </tr>\n",
       "    <tr>\n",
       "      <th>Friend</th>\n",
       "      <td>26.970149</td>\n",
       "    </tr>\n",
       "    <tr>\n",
       "      <th>Instagram</th>\n",
       "      <td>25.400000</td>\n",
       "    </tr>\n",
       "    <tr>\n",
       "      <th>LinkedIn</th>\n",
       "      <td>30.333333</td>\n",
       "    </tr>\n",
       "    <tr>\n",
       "      <th>WhatsApp</th>\n",
       "      <td>26.878788</td>\n",
       "    </tr>\n",
       "    <tr>\n",
       "      <th>other</th>\n",
       "      <td>28.777778</td>\n",
       "    </tr>\n",
       "    <tr>\n",
       "      <th>unknown</th>\n",
       "      <td>22.000000</td>\n",
       "    </tr>\n",
       "  </tbody>\n",
       "</table>\n",
       "</div>"
      ]
     },
     "metadata": {}
    }
   ],
   "metadata": {}
  },
  {
   "cell_type": "markdown",
   "source": [
    "### 6. Display an age boxplot for each communication channel"
   ],
   "metadata": {}
  },
  {
   "cell_type": "code",
   "execution_count": 68,
   "source": [
    "#here your codes\r\n",
    "plt.figure(figsize=(20,6))\r\n",
    "sns.boxplot(data=dataset_tt,x=\"communication_channels\",y=\"age\")\r\n",
    "plt.title('Boxplot of Ages by Communication Channels')"
   ],
   "outputs": [
    {
     "output_type": "execute_result",
     "data": {
      "text/plain": [
       "Text(0.5, 1.0, 'Boxplot of Ages by Communication Channels')"
      ]
     },
     "metadata": {},
     "execution_count": 68
    },
    {
     "output_type": "display_data",
     "data": {
      "text/plain": [
       "<Figure size 1440x432 with 1 Axes>"
      ],
      "image/png": "[encoded data removed]"
     },
     "metadata": {
      "needs_background": "light"
     }
    }
   ],
   "metadata": {}
  },
  {
   "cell_type": "markdown",
   "source": [
    "### 7 .Is there a significant age difference between these groups"
   ],
   "metadata": {}
  },
  {
   "cell_type": "code",
   "execution_count": 69,
   "source": [
    "#here your codes\r\n",
    "'''List of groups's Ages'''\r\n",
    "Btcamp_Alumni_age = dataset_tt[dataset_tt['communication_channels'] == 'Bootcamp Alumni']['age'].values\r\n",
    "LinkedIn_age      = dataset_tt[dataset_tt['communication_channels'] == 'LinkedIn']['age'].values\r\n",
    "AA_Website_age    = dataset_tt[dataset_tt['communication_channels'] == 'Ayiti Analytics Website']['age'].values\r\n",
    "other_age         = dataset_tt[dataset_tt['communication_channels'] == 'other']['age'].values\r\n",
    "Instagram_age     = dataset_tt[dataset_tt['communication_channels'] == 'Instagram']['age'].values\r\n",
    "Facebook_age      = dataset_tt[dataset_tt['communication_channels'] == 'Facebook']['age'].values\r\n",
    "Unknown_age       = dataset_tt[dataset_tt['communication_channels'] == 'unknown']['age'].values\r\n",
    "Friend_age        = dataset_tt[dataset_tt['communication_channels'] == 'Friend']['age'].values\r\n",
    "ESIH_age          = dataset_tt[dataset_tt['communication_channels'] == 'ESIH']['age'].values\r\n",
    "WhatsApp_age      = dataset_tt[dataset_tt['communication_channels'] == 'WhatsApp']['age'].values\r\n",
    "\r\n",
    "'''ANOVA Test Hypotesis'''\r\n",
    "print('H0 : There\\'s no difference between the mean of these groups\\'s ages\\n',\r\n",
    "      'H1 : There\\'s a difference between the mean of these groups\\'s ages')\r\n",
    "   \r\n",
    "stat, p_value = f_oneway(Btcamp_Alumni_age,LinkedIn_age,AA_Website_age,other_age,Instagram_age,Facebook_age,Unknown_age,Friend_age,ESIH_age,WhatsApp_age)\r\n",
    "print(\"P Value: \",p_value)\r\n",
    "if p_value < 0.05:\r\n",
    " print(\"Hypothesis:0 Rejected\")\r\n",
    "else:\r\n",
    " print(\"Hypothesis:0 Accepted\")\r\n"
   ],
   "outputs": [
    {
     "output_type": "stream",
     "name": "stdout",
     "text": [
      "H0 : There's no difference between the mean of these groups's ages\n",
      " H1 : There's a difference between the mean of these groups's ages\n",
      "P Value:  0.5139561934701287\n",
      "Hypothesis:0 Accepted\n"
     ]
    }
   ],
   "metadata": {}
  },
  {
   "cell_type": "markdown",
   "source": [
    "### 8.Plan a BA strategy for each communication channel regarding the age group"
   ],
   "metadata": {}
  },
  {
   "cell_type": "code",
   "execution_count": 70,
   "source": [
    "#here your codes"
   ],
   "outputs": [],
   "metadata": {}
  },
  {
   "cell_type": "markdown",
   "source": [
    "### 9.According to the observations what is the probability of being in each channel of communication knowing your are a woman"
   ],
   "metadata": {}
  },
  {
   "cell_type": "code",
   "execution_count": 71,
   "source": [
    "#here your codes\r\n",
    "channels_prob_female = pd.pivot_table(dataset_tt[dataset_tt['gender']=='female'],values='quest_id',index='gender',columns='communication_channels',aggfunc = 'count',fill_value=0,margins=True)\r\n",
    "channels_prob_female = channels_prob_female/dataset_tt.shape[0]\r\n",
    "channels_prob_female"
   ],
   "outputs": [
    {
     "output_type": "execute_result",
     "data": {
      "text/plain": [
       "communication_channels  Ayiti Analytics Website  Bootcamp Alumni  ESIH  \\\n",
       "gender                                                                   \n",
       "female                                    0.016            0.032  0.02   \n",
       "All                                       0.016            0.032  0.02   \n",
       "\n",
       "communication_channels  Facebook  Friend  Instagram  LinkedIn  WhatsApp  \\\n",
       "gender                                                                    \n",
       "female                     0.024   0.044      0.004     0.004     0.036   \n",
       "All                        0.024   0.044      0.004     0.004     0.036   \n",
       "\n",
       "communication_channels  other    All  \n",
       "gender                                \n",
       "female                  0.008  0.188  \n",
       "All                     0.008  0.188  "
      ],
      "text/html": [
       "<div>\n",
       "<style scoped>\n",
       "    .dataframe tbody tr th:only-of-type {\n",
       "        vertical-align: middle;\n",
       "    }\n",
       "\n",
       "    .dataframe tbody tr th {\n",
       "        vertical-align: top;\n",
       "    }\n",
       "\n",
       "    .dataframe thead th {\n",
       "        text-align: right;\n",
       "    }\n",
       "</style>\n",
       "<table border=\"1\" class=\"dataframe\">\n",
       "  <thead>\n",
       "    <tr style=\"text-align: right;\">\n",
       "      <th>communication_channels</th>\n",
       "      <th>Ayiti Analytics Website</th>\n",
       "      <th>Bootcamp Alumni</th>\n",
       "      <th>ESIH</th>\n",
       "      <th>Facebook</th>\n",
       "      <th>Friend</th>\n",
       "      <th>Instagram</th>\n",
       "      <th>LinkedIn</th>\n",
       "      <th>WhatsApp</th>\n",
       "      <th>other</th>\n",
       "      <th>All</th>\n",
       "    </tr>\n",
       "    <tr>\n",
       "      <th>gender</th>\n",
       "      <th></th>\n",
       "      <th></th>\n",
       "      <th></th>\n",
       "      <th></th>\n",
       "      <th></th>\n",
       "      <th></th>\n",
       "      <th></th>\n",
       "      <th></th>\n",
       "      <th></th>\n",
       "      <th></th>\n",
       "    </tr>\n",
       "  </thead>\n",
       "  <tbody>\n",
       "    <tr>\n",
       "      <th>female</th>\n",
       "      <td>0.016</td>\n",
       "      <td>0.032</td>\n",
       "      <td>0.02</td>\n",
       "      <td>0.024</td>\n",
       "      <td>0.044</td>\n",
       "      <td>0.004</td>\n",
       "      <td>0.004</td>\n",
       "      <td>0.036</td>\n",
       "      <td>0.008</td>\n",
       "      <td>0.188</td>\n",
       "    </tr>\n",
       "    <tr>\n",
       "      <th>All</th>\n",
       "      <td>0.016</td>\n",
       "      <td>0.032</td>\n",
       "      <td>0.02</td>\n",
       "      <td>0.024</td>\n",
       "      <td>0.044</td>\n",
       "      <td>0.004</td>\n",
       "      <td>0.004</td>\n",
       "      <td>0.036</td>\n",
       "      <td>0.008</td>\n",
       "      <td>0.188</td>\n",
       "    </tr>\n",
       "  </tbody>\n",
       "</table>\n",
       "</div>"
      ]
     },
     "metadata": {},
     "execution_count": 71
    }
   ],
   "metadata": {}
  },
  {
   "cell_type": "markdown",
   "source": [
    "### 10.According to the observations what is the probability of being in each channel of communication knowing your are a man"
   ],
   "metadata": {}
  },
  {
   "cell_type": "code",
   "execution_count": 72,
   "source": [
    "#here your codes\r\n",
    "channels_prob_male = pd.pivot_table(dataset_tt[dataset_tt['gender']=='male'],values='quest_id',index='gender',columns='communication_channels',aggfunc = 'count',fill_value=0,margins=True)\r\n",
    "channels_prob_male = channels_prob_male/dataset_tt.shape[0]\r\n",
    "channels_prob_male"
   ],
   "outputs": [
    {
     "output_type": "execute_result",
     "data": {
      "text/plain": [
       "communication_channels  Ayiti Analytics Website  Bootcamp Alumni   ESIH  \\\n",
       "gender                                                                    \n",
       "male                                      0.044            0.024  0.052   \n",
       "All                                       0.044            0.024  0.052   \n",
       "\n",
       "communication_channels  Facebook  Friend  Instagram  LinkedIn  WhatsApp  \\\n",
       "gender                                                                    \n",
       "male                       0.136   0.224      0.016     0.056     0.228   \n",
       "All                        0.136   0.224      0.016     0.056     0.228   \n",
       "\n",
       "communication_channels  other  unknown    All  \n",
       "gender                                         \n",
       "male                    0.028    0.004  0.812  \n",
       "All                     0.028    0.004  0.812  "
      ],
      "text/html": [
       "<div>\n",
       "<style scoped>\n",
       "    .dataframe tbody tr th:only-of-type {\n",
       "        vertical-align: middle;\n",
       "    }\n",
       "\n",
       "    .dataframe tbody tr th {\n",
       "        vertical-align: top;\n",
       "    }\n",
       "\n",
       "    .dataframe thead th {\n",
       "        text-align: right;\n",
       "    }\n",
       "</style>\n",
       "<table border=\"1\" class=\"dataframe\">\n",
       "  <thead>\n",
       "    <tr style=\"text-align: right;\">\n",
       "      <th>communication_channels</th>\n",
       "      <th>Ayiti Analytics Website</th>\n",
       "      <th>Bootcamp Alumni</th>\n",
       "      <th>ESIH</th>\n",
       "      <th>Facebook</th>\n",
       "      <th>Friend</th>\n",
       "      <th>Instagram</th>\n",
       "      <th>LinkedIn</th>\n",
       "      <th>WhatsApp</th>\n",
       "      <th>other</th>\n",
       "      <th>unknown</th>\n",
       "      <th>All</th>\n",
       "    </tr>\n",
       "    <tr>\n",
       "      <th>gender</th>\n",
       "      <th></th>\n",
       "      <th></th>\n",
       "      <th></th>\n",
       "      <th></th>\n",
       "      <th></th>\n",
       "      <th></th>\n",
       "      <th></th>\n",
       "      <th></th>\n",
       "      <th></th>\n",
       "      <th></th>\n",
       "      <th></th>\n",
       "    </tr>\n",
       "  </thead>\n",
       "  <tbody>\n",
       "    <tr>\n",
       "      <th>male</th>\n",
       "      <td>0.044</td>\n",
       "      <td>0.024</td>\n",
       "      <td>0.052</td>\n",
       "      <td>0.136</td>\n",
       "      <td>0.224</td>\n",
       "      <td>0.016</td>\n",
       "      <td>0.056</td>\n",
       "      <td>0.228</td>\n",
       "      <td>0.028</td>\n",
       "      <td>0.004</td>\n",
       "      <td>0.812</td>\n",
       "    </tr>\n",
       "    <tr>\n",
       "      <th>All</th>\n",
       "      <td>0.044</td>\n",
       "      <td>0.024</td>\n",
       "      <td>0.052</td>\n",
       "      <td>0.136</td>\n",
       "      <td>0.224</td>\n",
       "      <td>0.016</td>\n",
       "      <td>0.056</td>\n",
       "      <td>0.228</td>\n",
       "      <td>0.028</td>\n",
       "      <td>0.004</td>\n",
       "      <td>0.812</td>\n",
       "    </tr>\n",
       "  </tbody>\n",
       "</table>\n",
       "</div>"
      ]
     },
     "metadata": {},
     "execution_count": 72
    }
   ],
   "metadata": {}
  },
  {
   "cell_type": "markdown",
   "source": [
    "### 11. Deduce the probability of being a woman knowing each communication channel"
   ],
   "metadata": {}
  },
  {
   "cell_type": "code",
   "execution_count": 73,
   "source": [
    "#here your codes"
   ],
   "outputs": [],
   "metadata": {}
  },
  {
   "cell_type": "markdown",
   "source": [
    "### 12. Deduce the probability of being a man knowing each communication channel"
   ],
   "metadata": {}
  },
  {
   "cell_type": "code",
   "execution_count": 74,
   "source": [
    "\r\n",
    "#here your codes"
   ],
   "outputs": [],
   "metadata": {}
  },
  {
   "cell_type": "markdown",
   "source": [
    "### 13 Display a plot to see Gender vs Communication Channels .Is there any dependency between communication channels and gender?"
   ],
   "metadata": {}
  },
  {
   "cell_type": "code",
   "execution_count": 82,
   "source": [
    "#here \r\n",
    "channels_prob = pd.pivot_table(dataset_tt,values='quest_id',index='communication_channels',columns='gender',aggfunc = 'count',fill_value=0)\r\n",
    "#channels_prob_male = channels_prob/dataset_tt.shape[0]\r\n",
    "display(channels_prob)\r\n",
    "\r\n",
    "stat, p, dof, expected = chi2_contingency(channels_prob)\r\n",
    "print(\"p-values:\",p)\r\n",
    "if p < 0.05:\r\n",
    " print(\"Hypothesis Rejected\")\r\n",
    "else:\r\n",
    "    print(\"Hypothesis Accepted\")\r\n",
    "    \r\n",
    "    \r\n",
    "ax=channels_prob.plot(kind='barh')\r\n",
    "fig = ax.get_figure()\r\n",
    "# Change the plot dimensions (width, height)\r\n",
    "fig.set_size_inches(15, 7)\r\n",
    "\r\n",
    "     "
   ],
   "outputs": [
    {
     "output_type": "display_data",
     "data": {
      "text/plain": [
       "gender                   female  male\n",
       "communication_channels               \n",
       "Ayiti Analytics Website       4    11\n",
       "Bootcamp Alumni               8     6\n",
       "ESIH                          5    13\n",
       "Facebook                      6    34\n",
       "Friend                       11    56\n",
       "Instagram                     1     4\n",
       "LinkedIn                      1    14\n",
       "WhatsApp                      9    57\n",
       "other                         2     7\n",
       "unknown                       0     1"
      ],
      "text/html": [
       "<div>\n",
       "<style scoped>\n",
       "    .dataframe tbody tr th:only-of-type {\n",
       "        vertical-align: middle;\n",
       "    }\n",
       "\n",
       "    .dataframe tbody tr th {\n",
       "        vertical-align: top;\n",
       "    }\n",
       "\n",
       "    .dataframe thead th {\n",
       "        text-align: right;\n",
       "    }\n",
       "</style>\n",
       "<table border=\"1\" class=\"dataframe\">\n",
       "  <thead>\n",
       "    <tr style=\"text-align: right;\">\n",
       "      <th>gender</th>\n",
       "      <th>female</th>\n",
       "      <th>male</th>\n",
       "    </tr>\n",
       "    <tr>\n",
       "      <th>communication_channels</th>\n",
       "      <th></th>\n",
       "      <th></th>\n",
       "    </tr>\n",
       "  </thead>\n",
       "  <tbody>\n",
       "    <tr>\n",
       "      <th>Ayiti Analytics Website</th>\n",
       "      <td>4</td>\n",
       "      <td>11</td>\n",
       "    </tr>\n",
       "    <tr>\n",
       "      <th>Bootcamp Alumni</th>\n",
       "      <td>8</td>\n",
       "      <td>6</td>\n",
       "    </tr>\n",
       "    <tr>\n",
       "      <th>ESIH</th>\n",
       "      <td>5</td>\n",
       "      <td>13</td>\n",
       "    </tr>\n",
       "    <tr>\n",
       "      <th>Facebook</th>\n",
       "      <td>6</td>\n",
       "      <td>34</td>\n",
       "    </tr>\n",
       "    <tr>\n",
       "      <th>Friend</th>\n",
       "      <td>11</td>\n",
       "      <td>56</td>\n",
       "    </tr>\n",
       "    <tr>\n",
       "      <th>Instagram</th>\n",
       "      <td>1</td>\n",
       "      <td>4</td>\n",
       "    </tr>\n",
       "    <tr>\n",
       "      <th>LinkedIn</th>\n",
       "      <td>1</td>\n",
       "      <td>14</td>\n",
       "    </tr>\n",
       "    <tr>\n",
       "      <th>WhatsApp</th>\n",
       "      <td>9</td>\n",
       "      <td>57</td>\n",
       "    </tr>\n",
       "    <tr>\n",
       "      <th>other</th>\n",
       "      <td>2</td>\n",
       "      <td>7</td>\n",
       "    </tr>\n",
       "    <tr>\n",
       "      <th>unknown</th>\n",
       "      <td>0</td>\n",
       "      <td>1</td>\n",
       "    </tr>\n",
       "  </tbody>\n",
       "</table>\n",
       "</div>"
      ]
     },
     "metadata": {}
    },
    {
     "output_type": "stream",
     "name": "stdout",
     "text": [
      "p-values: 0.029074844147736527\n",
      "Hypothesis Rejected\n"
     ]
    },
    {
     "output_type": "display_data",
     "data": {
      "text/plain": [
       "<Figure size 1080x504 with 1 Axes>"
      ],
      "image/png": "[encoded data removed]"
     },
     "metadata": {
      "needs_background": "light"
     }
    }
   ],
   "metadata": {}
  },
  {
   "cell_type": "markdown",
   "source": [
    "### 16 Use the same method to display plot and know if is there any dependency between communication channels and Bootcamp Insterest?"
   ],
   "metadata": {}
  },
  {
   "cell_type": "code",
   "execution_count": 84,
   "source": [
    "# here your codes\r\n",
    "channels_btcmp_interest = pd.pivot_table(dataset_tt,values='quest_id',index='bootcamp_insterest',columns='communication_channels',aggfunc = 'count',fill_value=0)\r\n",
    "display(channels_btcmp_interest)\r\n",
    "\r\n",
    "\r\n",
    "stat, p, dof, expected = chi2_contingency(channels_btcmp_interest)\r\n",
    "print(\"p-values:\",p)\r\n",
    "if p < 0.05:\r\n",
    " print(\"Hypothesis Rejected\")\r\n",
    "else:\r\n",
    "    print(\"Hypothesis Accepted\")\r\n",
    "    \r\n",
    "ax=channels_btcmp_interest.plot(kind='barh')\r\n",
    "fig = ax.get_figure()\r\n",
    "# Change the plot dimensions (width, height)\r\n",
    "fig.set_size_inches(15, 7)    \r\n"
   ],
   "outputs": [
    {
     "output_type": "display_data",
     "data": {
      "text/plain": [
       "communication_channels             Ayiti Analytics Website  Bootcamp Alumni  \\\n",
       "bootcamp_insterest                                                            \n",
       "Finding a job/internship                                 1                3   \n",
       "Improving my data analysis skills                        9                8   \n",
       "Mentorship                                               1                0   \n",
       "Switching careers                                        2                1   \n",
       "Training to start my own company                         2                1   \n",
       "other                                                    0                0   \n",
       "unknown                                                  0                1   \n",
       "\n",
       "communication_channels             ESIH  Facebook  Friend  Instagram  \\\n",
       "bootcamp_insterest                                                     \n",
       "Finding a job/internship              2        10      10          2   \n",
       "Improving my data analysis skills    12        20      38          0   \n",
       "Mentorship                            1         3       1          0   \n",
       "Switching careers                     0         3       4          1   \n",
       "Training to start my own company      2         4      14          2   \n",
       "other                                 1         0       0          0   \n",
       "unknown                               0         0       0          0   \n",
       "\n",
       "communication_channels             LinkedIn  WhatsApp  other  unknown  \n",
       "bootcamp_insterest                                                     \n",
       "Finding a job/internship                  2        11      2        0  \n",
       "Improving my data analysis skills        10        29      4        0  \n",
       "Mentorship                                0         6      1        0  \n",
       "Switching careers                         1         8      0        0  \n",
       "Training to start my own company          2        11      1        0  \n",
       "other                                     0         1      1        0  \n",
       "unknown                                   0         0      0        1  "
      ],
      "text/html": [
       "<div>\n",
       "<style scoped>\n",
       "    .dataframe tbody tr th:only-of-type {\n",
       "        vertical-align: middle;\n",
       "    }\n",
       "\n",
       "    .dataframe tbody tr th {\n",
       "        vertical-align: top;\n",
       "    }\n",
       "\n",
       "    .dataframe thead th {\n",
       "        text-align: right;\n",
       "    }\n",
       "</style>\n",
       "<table border=\"1\" class=\"dataframe\">\n",
       "  <thead>\n",
       "    <tr style=\"text-align: right;\">\n",
       "      <th>communication_channels</th>\n",
       "      <th>Ayiti Analytics Website</th>\n",
       "      <th>Bootcamp Alumni</th>\n",
       "      <th>ESIH</th>\n",
       "      <th>Facebook</th>\n",
       "      <th>Friend</th>\n",
       "      <th>Instagram</th>\n",
       "      <th>LinkedIn</th>\n",
       "      <th>WhatsApp</th>\n",
       "      <th>other</th>\n",
       "      <th>unknown</th>\n",
       "    </tr>\n",
       "    <tr>\n",
       "      <th>bootcamp_insterest</th>\n",
       "      <th></th>\n",
       "      <th></th>\n",
       "      <th></th>\n",
       "      <th></th>\n",
       "      <th></th>\n",
       "      <th></th>\n",
       "      <th></th>\n",
       "      <th></th>\n",
       "      <th></th>\n",
       "      <th></th>\n",
       "    </tr>\n",
       "  </thead>\n",
       "  <tbody>\n",
       "    <tr>\n",
       "      <th>Finding a job/internship</th>\n",
       "      <td>1</td>\n",
       "      <td>3</td>\n",
       "      <td>2</td>\n",
       "      <td>10</td>\n",
       "      <td>10</td>\n",
       "      <td>2</td>\n",
       "      <td>2</td>\n",
       "      <td>11</td>\n",
       "      <td>2</td>\n",
       "      <td>0</td>\n",
       "    </tr>\n",
       "    <tr>\n",
       "      <th>Improving my data analysis skills</th>\n",
       "      <td>9</td>\n",
       "      <td>8</td>\n",
       "      <td>12</td>\n",
       "      <td>20</td>\n",
       "      <td>38</td>\n",
       "      <td>0</td>\n",
       "      <td>10</td>\n",
       "      <td>29</td>\n",
       "      <td>4</td>\n",
       "      <td>0</td>\n",
       "    </tr>\n",
       "    <tr>\n",
       "      <th>Mentorship</th>\n",
       "      <td>1</td>\n",
       "      <td>0</td>\n",
       "      <td>1</td>\n",
       "      <td>3</td>\n",
       "      <td>1</td>\n",
       "      <td>0</td>\n",
       "      <td>0</td>\n",
       "      <td>6</td>\n",
       "      <td>1</td>\n",
       "      <td>0</td>\n",
       "    </tr>\n",
       "    <tr>\n",
       "      <th>Switching careers</th>\n",
       "      <td>2</td>\n",
       "      <td>1</td>\n",
       "      <td>0</td>\n",
       "      <td>3</td>\n",
       "      <td>4</td>\n",
       "      <td>1</td>\n",
       "      <td>1</td>\n",
       "      <td>8</td>\n",
       "      <td>0</td>\n",
       "      <td>0</td>\n",
       "    </tr>\n",
       "    <tr>\n",
       "      <th>Training to start my own company</th>\n",
       "      <td>2</td>\n",
       "      <td>1</td>\n",
       "      <td>2</td>\n",
       "      <td>4</td>\n",
       "      <td>14</td>\n",
       "      <td>2</td>\n",
       "      <td>2</td>\n",
       "      <td>11</td>\n",
       "      <td>1</td>\n",
       "      <td>0</td>\n",
       "    </tr>\n",
       "    <tr>\n",
       "      <th>other</th>\n",
       "      <td>0</td>\n",
       "      <td>0</td>\n",
       "      <td>1</td>\n",
       "      <td>0</td>\n",
       "      <td>0</td>\n",
       "      <td>0</td>\n",
       "      <td>0</td>\n",
       "      <td>1</td>\n",
       "      <td>1</td>\n",
       "      <td>0</td>\n",
       "    </tr>\n",
       "    <tr>\n",
       "      <th>unknown</th>\n",
       "      <td>0</td>\n",
       "      <td>1</td>\n",
       "      <td>0</td>\n",
       "      <td>0</td>\n",
       "      <td>0</td>\n",
       "      <td>0</td>\n",
       "      <td>0</td>\n",
       "      <td>0</td>\n",
       "      <td>0</td>\n",
       "      <td>1</td>\n",
       "    </tr>\n",
       "  </tbody>\n",
       "</table>\n",
       "</div>"
      ]
     },
     "metadata": {}
    },
    {
     "output_type": "stream",
     "name": "stdout",
     "text": [
      "p-values: 2.7040922010696464e-14\n",
      "Hypothesis Rejected\n"
     ]
    },
    {
     "output_type": "display_data",
     "data": {
      "text/plain": [
       "<Figure size 1080x504 with 1 Axes>"
      ],
      "image/png": "[encoded data removed]"
     },
     "metadata": {
      "needs_background": "light"
     }
    }
   ],
   "metadata": {}
  },
  {
   "cell_type": "markdown",
   "source": [
    "### 17.Plan a BA  strategy for each communication channel, Bootcamp Insterest regarding the gender "
   ],
   "metadata": {}
  },
  {
   "cell_type": "code",
   "execution_count": 77,
   "source": [
    "#here your codes"
   ],
   "outputs": [],
   "metadata": {}
  },
  {
   "cell_type": "markdown",
   "source": [
    "### 18.Plan a BA  strategy for each communication channel, Bootcamp Insterest regarding the gender"
   ],
   "metadata": {}
  },
  {
   "cell_type": "code",
   "execution_count": 78,
   "source": [
    "# here your codes"
   ],
   "outputs": [],
   "metadata": {}
  },
  {
   "cell_type": "markdown",
   "source": [
    "### 19. Calculate \n",
    "    * P(Bootcamp Insterest,Communication channels,Gender/Payed=yes)\n",
    "    * P(Bootcamp Insterest,Communication channels,Gender/Payed=no)"
   ],
   "metadata": {}
  },
  {
   "cell_type": "markdown",
   "source": [
    "### 20 reduce \n",
    "* P(Payed=\"yes\"/Bootcamp Insterest=\"Increase Skill\",Communication channels=\"Friend\",Gender=\"male\")\n",
    "* P(Payed=\"no\"/Bootcamp Insterest=\"Increase Skill\",Communication channels=\"Friend\",Gender=\"male\")"
   ],
   "metadata": {}
  },
  {
   "cell_type": "code",
   "execution_count": 79,
   "source": [
    "# here your codes"
   ],
   "outputs": [],
   "metadata": {}
  },
  {
   "cell_type": "markdown",
   "source": [
    "### Based on these findings, propose strategies to increase our sales?"
   ],
   "metadata": {}
  },
  {
   "cell_type": "code",
   "execution_count": 80,
   "source": [
    "#here your codes"
   ],
   "outputs": [],
   "metadata": {}
  },
  {
   "cell_type": "markdown",
   "source": [],
   "metadata": {}
  }
 ],
 "metadata": {
  "interpreter": {
   "hash": "ac59ebe37160ed0dfa835113d9b8498d9f09ceb179beaac4002f036b9467c963"
  },
  "kernelspec": {
   "name": "python3",
   "display_name": "Python 3.9.5 64-bit"
  },
  "language_info": {
   "codemirror_mode": {
    "name": "ipython",
    "version": 3
   },
   "file_extension": ".py",
   "mimetype": "text/x-python",
   "name": "python",
   "nbconvert_exporter": "python",
   "pygments_lexer": "ipython3",
   "version": "3.9.5"
  },
  "orig_nbformat": 4
 },
 "nbformat": 4,
 "nbformat_minor": 2
}